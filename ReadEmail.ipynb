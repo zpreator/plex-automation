{
  "nbformat": 4,
  "nbformat_minor": 0,
  "metadata": {
    "colab": {
      "name": "Untitled0.ipynb",
      "provenance": [],
      "authorship_tag": "ABX9TyPCnIJChj0Za/Wnk9VwuDgo",
      "include_colab_link": true
    },
    "kernelspec": {
      "name": "python3",
      "display_name": "Python 3"
    }
  },
  "cells": [
    {
      "cell_type": "markdown",
      "metadata": {
        "id": "view-in-github",
        "colab_type": "text"
      },
      "source": [
        "<a href=\"https://colab.research.google.com/github/zpreator/plex-automation/blob/master/ReadEmail.ipynb\" target=\"_parent\"><img src=\"https://colab.research.google.com/assets/colab-badge.svg\" alt=\"Open In Colab\"/></a>"
      ]
    },
    {
      "cell_type": "code",
      "metadata": {
        "id": "YhCKaU3Ag8wS",
        "colab_type": "code",
        "colab": {
          "base_uri": "https://localhost:8080/",
          "height": 34
        },
        "outputId": "eb631d6f-1135-48af-881b-365ab5120acb"
      },
      "source": [
        "import imaplib\n",
        "\n",
        "imap_ssl_host = 'imap.gmail.com'\n",
        "imap_ssl_port = 993\n",
        "username = 'icebergplex@gmail.com'\n",
        "password = 'Oct0pu$20'\n",
        "server = imaplib.IMAP4_SSL(imap_ssl_host, imap_ssl_port)\n",
        "\n",
        "server.login(username, password)\n",
        "server.select('INBOX')\n",
        "\n",
        "data = server.uid('search',None, '(SUBJECT \"MY QUERY HERE!\")')\n",
        "print(data)"
      ],
      "execution_count": null,
      "outputs": [
        {
          "output_type": "stream",
          "text": [
            "('OK', [b''])\n"
          ],
          "name": "stdout"
        }
      ]
    }
  ]
}